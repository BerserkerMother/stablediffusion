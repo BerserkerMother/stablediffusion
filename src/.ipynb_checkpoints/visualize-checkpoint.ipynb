{
 "cells": [
  {
   "cell_type": "code",
   "execution_count": 1,
   "metadata": {},
   "outputs": [
    {
     "name": "stderr",
     "output_type": "stream",
     "text": [
      "Found cached dataset parquet (/home/kave/.cache/huggingface/datasets/huggan___parquet/huggan--smithsonian_butterflies_subset-7665b1021a37404c/0.0.0/2a3b91fbd88a2c90d1dbbb32b460cf621d31bd5b05b934492fdef7d8d6f236ec)\n"
     ]
    },
    {
     "name": "stdout",
     "output_type": "stream",
     "text": [
      "Dataset({\n",
      "    features: ['image_url', 'image_alt', 'id', 'name', 'scientific_name', 'gender', 'taxonomy', 'region', 'locality', 'date', 'usnm_no', 'guid', 'edan_url', 'source', 'stage', 'image', 'image_hash', 'sim_score'],\n",
      "    num_rows: 1000\n",
      "})\n"
     ]
    }
   ],
   "source": [
    "from datasets import load_dataset\n",
    "\n",
    "dataset_name = \"huggan/smithsonian_butterflies_subset\"\n",
    "\n",
    "dataset = load_dataset(dataset_name, split=\"train\")\n",
    "print(dataset)"
   ]
  },
  {
   "cell_type": "code",
   "execution_count": 2,
   "metadata": {},
   "outputs": [
    {
     "data": {
      "text/plain": [
       "{'image_url': 'https://ids.si.edu/ids/deliveryService?id=ark:/65665/m3b302800a43ef46b8a7a87a7b1eb06ab6',\n",
       " 'image_alt': 'view Paper Kite digital asset number 1',\n",
       " 'id': 'ark:/65665/m3b302800a43ef46b8a7a87a7b1eb06ab6',\n",
       " 'name': 'Paper Kite',\n",
       " 'scientific_name': 'Idea leuconoe',\n",
       " 'gender': None,\n",
       " 'taxonomy': 'Animalia, Arthropoda, Hexapoda, Insecta, Lepidoptera, Nymphalidae',\n",
       " 'region': 'US Mid Atlantic (PA, NJ, MD, DE, DC, VA, WV)',\n",
       " 'locality': 'NMNH Butterfly Pavilion, North America, United States, District of Columbia',\n",
       " 'date': None,\n",
       " 'usnm_no': 'EO401041',\n",
       " 'guid': 'http://n2t.net/ark:/65665/35f90bc1d-2e3c-4798-a33c-611d7b358636',\n",
       " 'edan_url': 'edanmdm:nmnheducation_11038234',\n",
       " 'source': 'Smithsonian Education and Outreach collections',\n",
       " 'stage': None,\n",
       " 'image': <PIL.PngImagePlugin.PngImageFile image mode=RGB size=512x283>,\n",
       " 'image_hash': 'fb0b8749d437efc70a26e54212b3572c',\n",
       " 'sim_score': 0.8055200576782227}"
      ]
     },
     "execution_count": 2,
     "metadata": {},
     "output_type": "execute_result"
    }
   ],
   "source": [
    "dataset[0]"
   ]
  },
  {
   "cell_type": "code",
   "execution_count": null,
   "metadata": {},
   "outputs": [],
   "source": []
  }
 ],
 "metadata": {
  "kernelspec": {
   "display_name": "Python 3 (ipykernel)",
   "language": "python",
   "name": "python3"
  },
  "language_info": {
   "codemirror_mode": {
    "name": "ipython",
    "version": 3
   },
   "file_extension": ".py",
   "mimetype": "text/x-python",
   "name": "python",
   "nbconvert_exporter": "python",
   "pygments_lexer": "ipython3",
   "version": "3.10.11"
  }
 },
 "nbformat": 4,
 "nbformat_minor": 2
}
